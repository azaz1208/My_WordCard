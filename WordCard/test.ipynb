{
 "cells": [
  {
   "cell_type": "code",
   "execution_count": 5,
   "metadata": {},
   "outputs": [
    {
     "name": "stdout",
     "output_type": "stream",
     "text": [
      "2d5a5b15-9ccf-492b-af5c-a0ca0394fd85\n"
     ]
    }
   ],
   "source": [
    "import uuid\n",
    "\n",
    "a = uuid.uuid4()\n",
    "print(a)\n",
    "\n",
    "\n",
    "\n"
   ]
  },
  {
   "cell_type": "code",
   "execution_count": 6,
   "metadata": {},
   "outputs": [
    {
     "name": "stdout",
     "output_type": "stream",
     "text": [
      "2d5a5b15-9ccf-492b-af5c-a0ca0394fd85\n"
     ]
    }
   ],
   "source": [
    "print(a)\n"
   ]
  },
  {
   "cell_type": "code",
   "execution_count": 10,
   "metadata": {},
   "outputs": [],
   "source": [
    "# dict_ass = {\"abc\": 10}\n",
    "\n",
    "# dict_ass[\"cde\"] = 200\n",
    "dict_ass = {}\n",
    "card_uuid = \"5a5b15-9ccf-492b-af5c-a0ca0394fd85\"\n",
    "word = 1\n",
    "m = 10\n",
    "s = 100\n",
    "dict_ass[card_uuid] = (word,s,m)\n",
    "list(\"a\",\"cc\")\n",
    "print(list)"
   ]
  },
  {
   "cell_type": "code",
   "execution_count": null,
   "metadata": {},
   "outputs": [],
   "source": []
  },
  {
   "cell_type": "code",
   "execution_count": 11,
   "metadata": {},
   "outputs": [
    {
     "name": "stdout",
     "output_type": "stream",
     "text": [
      "{'5a5b15-9ccf-492b-af5c-a0ca0394fd85': (1, 100, 10)}\n"
     ]
    }
   ],
   "source": [
    "print(dict_ass)"
   ]
  },
  {
   "cell_type": "code",
   "execution_count": 6,
   "metadata": {},
   "outputs": [
    {
     "name": "stdout",
     "output_type": "stream",
     "text": [
      "['A', 'B', 'D', 'C']\n"
     ]
    }
   ],
   "source": [
    "d = {\"A\": 10, \"B\": 20, \"D\": 99}\n",
    "\n",
    "d.update({\"C\": 199})\n",
    "\n",
    "print(list(d.keys()))"
   ]
  },
  {
   "cell_type": "code",
   "execution_count": 5,
   "metadata": {},
   "outputs": [
    {
     "name": "stdout",
     "output_type": "stream",
     "text": [
      "True\n"
     ]
    }
   ],
   "source": [
    "l = [\"a\",\"b\",\"c\",\"s\"]\n",
    "\n",
    "print(\"d\" not in l)\n",
    "\n",
    "if \"a\" not in l:\n",
    "    print(\"not in L!\")"
   ]
  },
  {
   "cell_type": "code",
   "execution_count": 7,
   "metadata": {},
   "outputs": [
    {
     "ename": "ValueError",
     "evalue": "'d' is not in list",
     "output_type": "error",
     "traceback": [
      "\u001b[0;31m---------------------------------------------------------------------------\u001b[0m",
      "\u001b[0;31mValueError\u001b[0m                                Traceback (most recent call last)",
      "Cell \u001b[0;32mIn[7], line 3\u001b[0m\n\u001b[1;32m      1\u001b[0m l \u001b[38;5;241m=\u001b[39m [\u001b[38;5;124m\"\u001b[39m\u001b[38;5;124ma\u001b[39m\u001b[38;5;124m\"\u001b[39m,\u001b[38;5;124m\"\u001b[39m\u001b[38;5;124mb\u001b[39m\u001b[38;5;124m\"\u001b[39m,\u001b[38;5;124m\"\u001b[39m\u001b[38;5;124mc\u001b[39m\u001b[38;5;124m\"\u001b[39m,\u001b[38;5;124m\"\u001b[39m\u001b[38;5;124ms\u001b[39m\u001b[38;5;124m\"\u001b[39m]\n\u001b[0;32m----> 3\u001b[0m \u001b[38;5;28mprint\u001b[39m(l\u001b[38;5;241m.\u001b[39mindex(\u001b[38;5;124m\"\u001b[39m\u001b[38;5;124md\u001b[39m\u001b[38;5;124m\"\u001b[39m))\n",
      "\u001b[0;31mValueError\u001b[0m: 'd' is not in list"
     ]
    }
   ],
   "source": [
    "l = [\"a\",\"b\",\"c\",\"s\"]\n",
    "\n",
    "print(l.index(\"d\"))"
   ]
  },
  {
   "cell_type": "code",
   "execution_count": 14,
   "metadata": {},
   "outputs": [],
   "source": [
    "import json\n",
    "\n",
    "# json file name\n",
    "filename = \"test.json\"\n",
    "\n",
    "org_data = {\n",
    "    \"fsahd51624-wgc-fchvhc\": [\"apple\", \"red\", \"fruit\"], \n",
    "    \"B\": 20, \n",
    "    \"D\": 99\n",
    "}\n",
    "\n",
    "# write json file\n",
    "with open(filename, \"w\") as f:\n",
    "    json.dump(org_data, f)\n"
   ]
  },
  {
   "cell_type": "code",
   "execution_count": 15,
   "metadata": {},
   "outputs": [
    {
     "name": "stdout",
     "output_type": "stream",
     "text": [
      "{'fsahd51624-wgc-fchvhc': ['apple', 'red', 'fruit'], 'B': 20, 'D': 99}\n"
     ]
    }
   ],
   "source": [
    "# read json file\n",
    "with open(filename, \"r\") as f:\n",
    "    sth = json.load(f)\n",
    "\n",
    "print(sth)"
   ]
  },
  {
   "cell_type": "code",
   "execution_count": 16,
   "metadata": {},
   "outputs": [],
   "source": [
    "sth[\"B\"] = 40\n",
    "sth[\"sfjhbsjb\"] = [\"a\", \"c\", 123]\n"
   ]
  },
  {
   "cell_type": "code",
   "execution_count": 17,
   "metadata": {},
   "outputs": [
    {
     "name": "stdout",
     "output_type": "stream",
     "text": [
      "{'fsahd51624-wgc-fchvhc': ['apple', 'red', 'fruit'], 'B': 40, 'D': 99, 'sfjhbsjb': ['a', 'c', 123]}\n"
     ]
    }
   ],
   "source": [
    "print(sth)"
   ]
  },
  {
   "cell_type": "code",
   "execution_count": 18,
   "metadata": {},
   "outputs": [],
   "source": [
    "# write json file\n",
    "with open(filename, \"w\") as f:\n",
    "    json.dump(sth, f)"
   ]
  },
  {
   "cell_type": "code",
   "execution_count": 19,
   "metadata": {},
   "outputs": [],
   "source": [
    "o = {\"zzzzzzzzz\":['apple', 'red', 'fruit']}\n",
    "# write json file\n",
    "with open(filename, \"w\") as f:\n",
    "    json.dump(o, f)"
   ]
  },
  {
   "cell_type": "code",
   "execution_count": 33,
   "metadata": {},
   "outputs": [],
   "source": [
    "import json\n",
    "\n",
    "# json file name\n",
    "filename = \"test.json\"\n",
    "\n",
    "org_data = {\n",
    "    \"fsahd51624-wgc-fchvhc\": [\"apple\", \"red\", \"fruit\"], \n",
    "    \"B\": 20, \n",
    "    \"D\": 99\n",
    "}"
   ]
  },
  {
   "cell_type": "code",
   "execution_count": 21,
   "metadata": {},
   "outputs": [],
   "source": [
    "def read_file(filename):\n",
    "    with open(filename, 'r') as f:\n",
    "        rea = json.load(f)\n",
    "    return rea"
   ]
  },
  {
   "cell_type": "code",
   "execution_count": 31,
   "metadata": {},
   "outputs": [],
   "source": [
    "def write_file(filename,data):\n",
    "    with open(filename, 'w') as f:\n",
    "        json.dump(data,f)\n",
    "    "
   ]
  },
  {
   "cell_type": "code",
   "execution_count": null,
   "metadata": {},
   "outputs": [],
   "source": [
    "def update_file(filename, data):\n",
    "    rea = read_file(filename)\n",
    "    rea.update(data)\n",
    "    write_file(filename, rea)"
   ]
  },
  {
   "cell_type": "code",
   "execution_count": 35,
   "metadata": {},
   "outputs": [],
   "source": [
    "zz = {\"f\":1000}\n",
    "\n",
    "rea = read_file(filename)\n",
    "\n",
    "rea.update(zz)\n",
    "\n",
    "write_file(filename,rea)\n"
   ]
  },
  {
   "cell_type": "code",
   "execution_count": 34,
   "metadata": {},
   "outputs": [],
   "source": [
    "write_file(filename,org_data)"
   ]
  },
  {
   "cell_type": "code",
   "execution_count": null,
   "metadata": {},
   "outputs": [],
   "source": [
    "az = \n",
    "update_file(filename, data)"
   ]
  },
  {
   "cell_type": "code",
   "execution_count": 27,
   "metadata": {},
   "outputs": [
    {
     "name": "stdout",
     "output_type": "stream",
     "text": [
      "{'fsahd51624-wgc-fchvhc': ['apple', 'red', 'fruit'], 'B': 20, 'D': 99}\n"
     ]
    }
   ],
   "source": [
    "rea = read_file(filename)\n",
    "print(rea)"
   ]
  }
 ],
 "metadata": {
  "kernelspec": {
   "display_name": "base",
   "language": "python",
   "name": "python3"
  },
  "language_info": {
   "codemirror_mode": {
    "name": "ipython",
    "version": 3
   },
   "file_extension": ".py",
   "mimetype": "text/x-python",
   "name": "python",
   "nbconvert_exporter": "python",
   "pygments_lexer": "ipython3",
   "version": "3.11.5"
  }
 },
 "nbformat": 4,
 "nbformat_minor": 2
}
